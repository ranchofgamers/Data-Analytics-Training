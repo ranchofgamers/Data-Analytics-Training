{
  "cells": [
    {
      "cell_type": "markdown",
      "metadata": {
        "id": "q178Ra9_yACj"
      },
      "source": [
        "Инструкция:\n",
        "\n",
        "Шаг 1.  Изучите материалы лекционных и практических занятий по теме 9.3.\n",
        "\n",
        "Шаг 2. Постройте рекомендательную систему (Алгоритм выполнения представлен в лекции по теме 9.3).\n",
        "\n",
        "Шаг 3. Реализуйте коллаборативную фильтрацию данных по заданным параметрам (Алгоритм выполнения представлен в лекции по теме 9.3).\n",
        "\n",
        "Шаг 4. Опубликуйте ссылку на файл расширения ipynb, прикрепив его в этом задании."
      ]
    },
    {
      "cell_type": "markdown",
      "metadata": {
        "id": "gsFzPJD1pJpP"
      },
      "source": [
        "**Примечание**: Здесь нужно построить рекомендации для любого, выбранного Вами, покупателя.\n",
        "\n",
        "Матрица предпочтений представлена в файле `matrix_utility.*csv*`  \n",
        "\n",
        "Реализовать рекомендации по двум подходам: user-based и item-based.\n",
        "\n",
        "Меру сходства взять любую (корреляция Пирсона, косинусная мера, метрики расстояния).\n",
        "\n",
        "Алгоритм:\n",
        "\n",
        "Матрица предпочтений:\n",
        "\n",
        "$$\n",
        "I = \\begin{array}{cccccc}\n",
        "& Товар_1 & Товар_2 & \\ldots & Товар_n \\\\\n",
        "Пользователь_1 & r_{11} & r_{12} & \\ldots & r_{1n}\\\\\n",
        "Пользователь_2 & r_{21} & r_{22} & \\ldots & r_{2n}\\\\\n",
        "\\cdots & \\cdots & \\cdots & \\cdots & \\cdots\\\\\n",
        "Пользователь_m & r_{m1} & r_{m2} & \\ldots & r_{mn}\\\\\n",
        "\\end{array}\n",
        "$$\n",
        "\n",
        "Если для двух пользователей заданы их вектора предпочтений, то их сходство можно вычислить через коэффициент корреляции Пирсона\n",
        "$$\n",
        "w_{uv} = \\dfrac{\\sum_{i\\in I_{uv}} (r_{ui}- \\bar{r}_u)(r_{vi}- \\bar{r}_v)}{\n",
        "\\sqrt{\\sum_{i\\in I_{uv}} (r_{ui}- \\bar{r}_u)^2}\\sqrt{\\sum_{i\\in I_{uv}} (r_{vi}- \\bar{r}_v)^2}}\n",
        "$$\n",
        "\n",
        "Аналогично можно посчитать сходство двух товаров -- $w_{ij}$. \n",
        "\n",
        "Тогда рекомендации могут быть построены следующим образом:\n",
        "- user-based:\n",
        "$$\n",
        "\\hat{r}_{ui} = \\bar{r}_u + \\dfrac{\\sum_{v\\in U_{i}} sim(u,v)(r_{vi}-\\bar{r}_v)}{\\sum_{v\\in U_{i}} sim(u,v)} \n",
        "$$\n",
        "\n",
        "- item-based:\n",
        "$$\n",
        "\\hat{r}_{ui} = \\bar{r}_i + \\dfrac{\\sum_{j\\in I_{u}} sim(i,j)(r_{uj}-\\bar{r}_j)}{\\sum_{j\\in I_{u}} sim(i,j)} \n",
        "$$\n",
        "\n",
        "\n",
        "\n"
      ]
    },
    {
      "cell_type": "code",
      "execution_count": null,
      "metadata": {
        "ExecuteTime": {
          "end_time": "2022-10-20T12:01:07.123077Z",
          "start_time": "2022-10-20T12:01:07.084043Z"
        },
        "id": "BKAvfjlrpI1Y"
      },
      "outputs": [],
      "source": [
        "import pandas as pd\n",
        "import numpy as np\n",
        "import math"
      ]
    },
    {
      "cell_type": "code",
      "execution_count": null,
      "metadata": {
        "ExecuteTime": {
          "end_time": "2022-10-20T12:01:07.203150Z",
          "start_time": "2022-10-20T12:01:07.124079Z"
        },
        "colab": {
          "base_uri": "https://localhost:8080/",
          "height": 364
        },
        "id": "NwNVMm57gey5",
        "outputId": "b64dd2f6-07cf-48b5-cb0b-3d4e121b008d"
      },
      "outputs": [
        {
          "output_type": "execute_result",
          "data": {
            "text/plain": [
              "         Товар_1    Товар_2   Товар_3    Товар_4    Товар_5    Товар_6  \\\n",
              "count   9.000000   9.000000  9.000000   9.000000   9.000000   9.000000   \n",
              "mean    8.111111   2.333333  3.444444   5.777778   6.111111   9.000000   \n",
              "std     5.441609   4.153312  3.503966   7.259094   7.557189   4.974937   \n",
              "min     0.000000   0.000000  0.000000   0.000000   0.000000   0.000000   \n",
              "25%     5.000000   0.000000  0.000000   0.000000   0.000000   7.000000   \n",
              "50%     7.000000   0.000000  3.000000   4.000000   0.000000   9.000000   \n",
              "75%    13.000000   1.000000  7.000000   8.000000  12.000000  11.000000   \n",
              "max    16.000000  11.000000  9.000000  22.000000  18.000000  17.000000   \n",
              "\n",
              "         Товар_7   Товар_8    Товар_9  Товар_10   Товар_11   Товар_12  \\\n",
              "count   9.000000  9.000000   9.000000  9.000000   9.000000   9.000000   \n",
              "mean    6.000000  1.222222   5.111111  1.777778   4.111111   3.666667   \n",
              "std     4.609772  2.538591   2.315407  2.438123   4.675587   3.840573   \n",
              "min     0.000000  0.000000   1.000000  0.000000   0.000000   0.000000   \n",
              "25%     3.000000  0.000000   5.000000  0.000000   0.000000   0.000000   \n",
              "50%     5.000000  0.000000   5.000000  1.000000   3.000000   3.000000   \n",
              "75%     8.000000  0.000000   5.000000  3.000000   6.000000   6.000000   \n",
              "max    14.000000  7.000000  10.000000  7.000000  12.000000  10.000000   \n",
              "\n",
              "        Товар_13   Товар_14   Товар_15   Товар_16  Товар_17   Товар_18  \\\n",
              "count   9.000000   9.000000   9.000000   9.000000  9.000000   9.000000   \n",
              "mean    5.111111   5.000000   8.555556   4.000000  3.777778   6.888889   \n",
              "std     5.254628   4.301163   5.659309   3.937004  3.231787   5.925463   \n",
              "min     0.000000   0.000000   0.000000   0.000000  0.000000   0.000000   \n",
              "25%     1.000000   2.000000   5.000000   0.000000  0.000000   1.000000   \n",
              "50%     2.000000   5.000000   6.000000   3.000000  4.000000   8.000000   \n",
              "75%     9.000000   7.000000  14.000000   7.000000  5.000000  11.000000   \n",
              "max    14.000000  11.000000  15.000000  10.000000  9.000000  14.000000   \n",
              "\n",
              "        Товар_19   Товар_20  \n",
              "count   9.000000   9.000000  \n",
              "mean    4.777778   4.222222  \n",
              "std     4.893306   3.833333  \n",
              "min     0.000000   0.000000  \n",
              "25%     0.000000   2.000000  \n",
              "50%     3.000000   3.000000  \n",
              "75%     9.000000   5.000000  \n",
              "max    11.000000  13.000000  "
            ],
            "text/html": [
              "\n",
              "  <div id=\"df-a8ba72bc-8961-48b3-839b-7580fb150563\">\n",
              "    <div class=\"colab-df-container\">\n",
              "      <div>\n",
              "<style scoped>\n",
              "    .dataframe tbody tr th:only-of-type {\n",
              "        vertical-align: middle;\n",
              "    }\n",
              "\n",
              "    .dataframe tbody tr th {\n",
              "        vertical-align: top;\n",
              "    }\n",
              "\n",
              "    .dataframe thead th {\n",
              "        text-align: right;\n",
              "    }\n",
              "</style>\n",
              "<table border=\"1\" class=\"dataframe\">\n",
              "  <thead>\n",
              "    <tr style=\"text-align: right;\">\n",
              "      <th></th>\n",
              "      <th>Товар_1</th>\n",
              "      <th>Товар_2</th>\n",
              "      <th>Товар_3</th>\n",
              "      <th>Товар_4</th>\n",
              "      <th>Товар_5</th>\n",
              "      <th>Товар_6</th>\n",
              "      <th>Товар_7</th>\n",
              "      <th>Товар_8</th>\n",
              "      <th>Товар_9</th>\n",
              "      <th>Товар_10</th>\n",
              "      <th>Товар_11</th>\n",
              "      <th>Товар_12</th>\n",
              "      <th>Товар_13</th>\n",
              "      <th>Товар_14</th>\n",
              "      <th>Товар_15</th>\n",
              "      <th>Товар_16</th>\n",
              "      <th>Товар_17</th>\n",
              "      <th>Товар_18</th>\n",
              "      <th>Товар_19</th>\n",
              "      <th>Товар_20</th>\n",
              "    </tr>\n",
              "  </thead>\n",
              "  <tbody>\n",
              "    <tr>\n",
              "      <th>count</th>\n",
              "      <td>9.000000</td>\n",
              "      <td>9.000000</td>\n",
              "      <td>9.000000</td>\n",
              "      <td>9.000000</td>\n",
              "      <td>9.000000</td>\n",
              "      <td>9.000000</td>\n",
              "      <td>9.000000</td>\n",
              "      <td>9.000000</td>\n",
              "      <td>9.000000</td>\n",
              "      <td>9.000000</td>\n",
              "      <td>9.000000</td>\n",
              "      <td>9.000000</td>\n",
              "      <td>9.000000</td>\n",
              "      <td>9.000000</td>\n",
              "      <td>9.000000</td>\n",
              "      <td>9.000000</td>\n",
              "      <td>9.000000</td>\n",
              "      <td>9.000000</td>\n",
              "      <td>9.000000</td>\n",
              "      <td>9.000000</td>\n",
              "    </tr>\n",
              "    <tr>\n",
              "      <th>mean</th>\n",
              "      <td>8.111111</td>\n",
              "      <td>2.333333</td>\n",
              "      <td>3.444444</td>\n",
              "      <td>5.777778</td>\n",
              "      <td>6.111111</td>\n",
              "      <td>9.000000</td>\n",
              "      <td>6.000000</td>\n",
              "      <td>1.222222</td>\n",
              "      <td>5.111111</td>\n",
              "      <td>1.777778</td>\n",
              "      <td>4.111111</td>\n",
              "      <td>3.666667</td>\n",
              "      <td>5.111111</td>\n",
              "      <td>5.000000</td>\n",
              "      <td>8.555556</td>\n",
              "      <td>4.000000</td>\n",
              "      <td>3.777778</td>\n",
              "      <td>6.888889</td>\n",
              "      <td>4.777778</td>\n",
              "      <td>4.222222</td>\n",
              "    </tr>\n",
              "    <tr>\n",
              "      <th>std</th>\n",
              "      <td>5.441609</td>\n",
              "      <td>4.153312</td>\n",
              "      <td>3.503966</td>\n",
              "      <td>7.259094</td>\n",
              "      <td>7.557189</td>\n",
              "      <td>4.974937</td>\n",
              "      <td>4.609772</td>\n",
              "      <td>2.538591</td>\n",
              "      <td>2.315407</td>\n",
              "      <td>2.438123</td>\n",
              "      <td>4.675587</td>\n",
              "      <td>3.840573</td>\n",
              "      <td>5.254628</td>\n",
              "      <td>4.301163</td>\n",
              "      <td>5.659309</td>\n",
              "      <td>3.937004</td>\n",
              "      <td>3.231787</td>\n",
              "      <td>5.925463</td>\n",
              "      <td>4.893306</td>\n",
              "      <td>3.833333</td>\n",
              "    </tr>\n",
              "    <tr>\n",
              "      <th>min</th>\n",
              "      <td>0.000000</td>\n",
              "      <td>0.000000</td>\n",
              "      <td>0.000000</td>\n",
              "      <td>0.000000</td>\n",
              "      <td>0.000000</td>\n",
              "      <td>0.000000</td>\n",
              "      <td>0.000000</td>\n",
              "      <td>0.000000</td>\n",
              "      <td>1.000000</td>\n",
              "      <td>0.000000</td>\n",
              "      <td>0.000000</td>\n",
              "      <td>0.000000</td>\n",
              "      <td>0.000000</td>\n",
              "      <td>0.000000</td>\n",
              "      <td>0.000000</td>\n",
              "      <td>0.000000</td>\n",
              "      <td>0.000000</td>\n",
              "      <td>0.000000</td>\n",
              "      <td>0.000000</td>\n",
              "      <td>0.000000</td>\n",
              "    </tr>\n",
              "    <tr>\n",
              "      <th>25%</th>\n",
              "      <td>5.000000</td>\n",
              "      <td>0.000000</td>\n",
              "      <td>0.000000</td>\n",
              "      <td>0.000000</td>\n",
              "      <td>0.000000</td>\n",
              "      <td>7.000000</td>\n",
              "      <td>3.000000</td>\n",
              "      <td>0.000000</td>\n",
              "      <td>5.000000</td>\n",
              "      <td>0.000000</td>\n",
              "      <td>0.000000</td>\n",
              "      <td>0.000000</td>\n",
              "      <td>1.000000</td>\n",
              "      <td>2.000000</td>\n",
              "      <td>5.000000</td>\n",
              "      <td>0.000000</td>\n",
              "      <td>0.000000</td>\n",
              "      <td>1.000000</td>\n",
              "      <td>0.000000</td>\n",
              "      <td>2.000000</td>\n",
              "    </tr>\n",
              "    <tr>\n",
              "      <th>50%</th>\n",
              "      <td>7.000000</td>\n",
              "      <td>0.000000</td>\n",
              "      <td>3.000000</td>\n",
              "      <td>4.000000</td>\n",
              "      <td>0.000000</td>\n",
              "      <td>9.000000</td>\n",
              "      <td>5.000000</td>\n",
              "      <td>0.000000</td>\n",
              "      <td>5.000000</td>\n",
              "      <td>1.000000</td>\n",
              "      <td>3.000000</td>\n",
              "      <td>3.000000</td>\n",
              "      <td>2.000000</td>\n",
              "      <td>5.000000</td>\n",
              "      <td>6.000000</td>\n",
              "      <td>3.000000</td>\n",
              "      <td>4.000000</td>\n",
              "      <td>8.000000</td>\n",
              "      <td>3.000000</td>\n",
              "      <td>3.000000</td>\n",
              "    </tr>\n",
              "    <tr>\n",
              "      <th>75%</th>\n",
              "      <td>13.000000</td>\n",
              "      <td>1.000000</td>\n",
              "      <td>7.000000</td>\n",
              "      <td>8.000000</td>\n",
              "      <td>12.000000</td>\n",
              "      <td>11.000000</td>\n",
              "      <td>8.000000</td>\n",
              "      <td>0.000000</td>\n",
              "      <td>5.000000</td>\n",
              "      <td>3.000000</td>\n",
              "      <td>6.000000</td>\n",
              "      <td>6.000000</td>\n",
              "      <td>9.000000</td>\n",
              "      <td>7.000000</td>\n",
              "      <td>14.000000</td>\n",
              "      <td>7.000000</td>\n",
              "      <td>5.000000</td>\n",
              "      <td>11.000000</td>\n",
              "      <td>9.000000</td>\n",
              "      <td>5.000000</td>\n",
              "    </tr>\n",
              "    <tr>\n",
              "      <th>max</th>\n",
              "      <td>16.000000</td>\n",
              "      <td>11.000000</td>\n",
              "      <td>9.000000</td>\n",
              "      <td>22.000000</td>\n",
              "      <td>18.000000</td>\n",
              "      <td>17.000000</td>\n",
              "      <td>14.000000</td>\n",
              "      <td>7.000000</td>\n",
              "      <td>10.000000</td>\n",
              "      <td>7.000000</td>\n",
              "      <td>12.000000</td>\n",
              "      <td>10.000000</td>\n",
              "      <td>14.000000</td>\n",
              "      <td>11.000000</td>\n",
              "      <td>15.000000</td>\n",
              "      <td>10.000000</td>\n",
              "      <td>9.000000</td>\n",
              "      <td>14.000000</td>\n",
              "      <td>11.000000</td>\n",
              "      <td>13.000000</td>\n",
              "    </tr>\n",
              "  </tbody>\n",
              "</table>\n",
              "</div>\n",
              "      <button class=\"colab-df-convert\" onclick=\"convertToInteractive('df-a8ba72bc-8961-48b3-839b-7580fb150563')\"\n",
              "              title=\"Convert this dataframe to an interactive table.\"\n",
              "              style=\"display:none;\">\n",
              "        \n",
              "  <svg xmlns=\"http://www.w3.org/2000/svg\" height=\"24px\"viewBox=\"0 0 24 24\"\n",
              "       width=\"24px\">\n",
              "    <path d=\"M0 0h24v24H0V0z\" fill=\"none\"/>\n",
              "    <path d=\"M18.56 5.44l.94 2.06.94-2.06 2.06-.94-2.06-.94-.94-2.06-.94 2.06-2.06.94zm-11 1L8.5 8.5l.94-2.06 2.06-.94-2.06-.94L8.5 2.5l-.94 2.06-2.06.94zm10 10l.94 2.06.94-2.06 2.06-.94-2.06-.94-.94-2.06-.94 2.06-2.06.94z\"/><path d=\"M17.41 7.96l-1.37-1.37c-.4-.4-.92-.59-1.43-.59-.52 0-1.04.2-1.43.59L10.3 9.45l-7.72 7.72c-.78.78-.78 2.05 0 2.83L4 21.41c.39.39.9.59 1.41.59.51 0 1.02-.2 1.41-.59l7.78-7.78 2.81-2.81c.8-.78.8-2.07 0-2.86zM5.41 20L4 18.59l7.72-7.72 1.47 1.35L5.41 20z\"/>\n",
              "  </svg>\n",
              "      </button>\n",
              "      \n",
              "  <style>\n",
              "    .colab-df-container {\n",
              "      display:flex;\n",
              "      flex-wrap:wrap;\n",
              "      gap: 12px;\n",
              "    }\n",
              "\n",
              "    .colab-df-convert {\n",
              "      background-color: #E8F0FE;\n",
              "      border: none;\n",
              "      border-radius: 50%;\n",
              "      cursor: pointer;\n",
              "      display: none;\n",
              "      fill: #1967D2;\n",
              "      height: 32px;\n",
              "      padding: 0 0 0 0;\n",
              "      width: 32px;\n",
              "    }\n",
              "\n",
              "    .colab-df-convert:hover {\n",
              "      background-color: #E2EBFA;\n",
              "      box-shadow: 0px 1px 2px rgba(60, 64, 67, 0.3), 0px 1px 3px 1px rgba(60, 64, 67, 0.15);\n",
              "      fill: #174EA6;\n",
              "    }\n",
              "\n",
              "    [theme=dark] .colab-df-convert {\n",
              "      background-color: #3B4455;\n",
              "      fill: #D2E3FC;\n",
              "    }\n",
              "\n",
              "    [theme=dark] .colab-df-convert:hover {\n",
              "      background-color: #434B5C;\n",
              "      box-shadow: 0px 1px 3px 1px rgba(0, 0, 0, 0.15);\n",
              "      filter: drop-shadow(0px 1px 2px rgba(0, 0, 0, 0.3));\n",
              "      fill: #FFFFFF;\n",
              "    }\n",
              "  </style>\n",
              "\n",
              "      <script>\n",
              "        const buttonEl =\n",
              "          document.querySelector('#df-a8ba72bc-8961-48b3-839b-7580fb150563 button.colab-df-convert');\n",
              "        buttonEl.style.display =\n",
              "          google.colab.kernel.accessAllowed ? 'block' : 'none';\n",
              "\n",
              "        async function convertToInteractive(key) {\n",
              "          const element = document.querySelector('#df-a8ba72bc-8961-48b3-839b-7580fb150563');\n",
              "          const dataTable =\n",
              "            await google.colab.kernel.invokeFunction('convertToInteractive',\n",
              "                                                     [key], {});\n",
              "          if (!dataTable) return;\n",
              "\n",
              "          const docLinkHtml = 'Like what you see? Visit the ' +\n",
              "            '<a target=\"_blank\" href=https://colab.research.google.com/notebooks/data_table.ipynb>data table notebook</a>'\n",
              "            + ' to learn more about interactive tables.';\n",
              "          element.innerHTML = '';\n",
              "          dataTable['output_type'] = 'display_data';\n",
              "          await google.colab.output.renderOutput(dataTable, element);\n",
              "          const docLink = document.createElement('div');\n",
              "          docLink.innerHTML = docLinkHtml;\n",
              "          element.appendChild(docLink);\n",
              "        }\n",
              "      </script>\n",
              "    </div>\n",
              "  </div>\n",
              "  "
            ]
          },
          "metadata": {},
          "execution_count": 15
        }
      ],
      "source": [
        "df = pd.read_csv('matrix_utility.csv')\n",
        "df.describe()"
      ]
    },
    {
      "cell_type": "markdown",
      "metadata": {
        "ExecuteTime": {
          "end_time": "2022-10-20T10:44:48.033224Z",
          "start_time": "2022-10-20T10:44:47.985168Z"
        },
        "id": "w8Qr6Cczgey_"
      },
      "source": [
        "Функция для подсчета косинусного расстояния между векторами. "
      ]
    },
    {
      "cell_type": "code",
      "execution_count": null,
      "metadata": {
        "ExecuteTime": {
          "end_time": "2022-10-20T12:01:07.344966Z",
          "start_time": "2022-10-20T12:01:07.299925Z"
        },
        "id": "Y_jbMPR-gezE"
      },
      "outputs": [],
      "source": [
        "def sim(vecA, vecB):\n",
        "    res = (vecA*vecB).sum()/(vecA*vecA).sum()/(vecB*vecB).sum()\n",
        "    return res"
      ]
    },
    {
      "cell_type": "markdown",
      "metadata": {
        "id": "_DHnWJ8PgezL"
      },
      "source": [
        "Начнём с рекомендации товара по пользователям (user-based)"
      ]
    },
    {
      "cell_type": "markdown",
      "metadata": {
        "id": "e3vBqs5JgezM"
      },
      "source": [
        "Функция для рекомендации товара на основе всех пользователей"
      ]
    },
    {
      "cell_type": "code",
      "execution_count": null,
      "metadata": {
        "ExecuteTime": {
          "end_time": "2022-10-20T12:01:07.393011Z",
          "start_time": "2022-10-20T12:01:07.345967Z"
        },
        "id": "5Y8AGlKUgezM"
      },
      "outputs": [],
      "source": [
        "def rec(dataframe, user):\n",
        "    avg = dataframe.mean() #берём средние по столбцам\n",
        "    i=0 #счётчик для строк\n",
        "    df_user_0_c = dataframe-avg #датафрейм с удалением средних\n",
        "    df_user_0 = dataframe #исходный датафрейм\n",
        "    while i<(len(dataframe)): #проходим по строкам и формируем 2 новых датафрейма\n",
        "        df_user_0_c.iloc[i] = df_user_0_c.iloc[i]*(sim(dataframe.iloc[user].values, dataframe.iloc[i].values))\n",
        "        df_user_0.iloc[i] = df_user_0.iloc[i]*(sim(dataframe.iloc[user].values, dataframe.iloc[i].values))\n",
        "        i+=1\n",
        "        if 'Товар_' in str(dataframe.columns[1]):\n",
        "            s1 = df_user_0_c.drop(user).sum() #суммы числителей (без выбранного пользователя)\n",
        "            s2 = df_user_0.drop(user).sum() #суммы знаменателей (без выбранного пользователя)\n",
        "        else:\n",
        "            s1 = df_user_0_c.drop('Товар_'+str(user+1)).sum() #суммы числителей (без выбранного пользователя)\n",
        "            s2 = df_user_0.drop('Товар_'+str(user+1)).sum() #суммы знаменателей (без выбранного пользователя)\n",
        "    coefs = s1/s2 #общие коэффициенты по товарам\n",
        "    i=0 #очередной счётчик для цикла\n",
        "    i_max = -100 #т.к. значения могут быть и отрицательными ставим -100\n",
        "    recomendation = ''\n",
        "    print('Новые для пользователя товары:')\n",
        "    for item in dataframe: #проходим по исходному датафрейму в поисках нулей\n",
        "        if dataframe[item].iloc[user]==0: #находим максимальный коэффициент для нулевых значений\n",
        "            if 'Товар_' in str(dataframe.columns[1]):\n",
        "                print(f'Название: {item}, коэффициент {coefs[int(item.replace(\"Товар_\",\"\"))-1]}')\n",
        "                if i_max <= coefs[int(item.replace('Товар_',''))-1]: #-1 т.к. нумерация с нуля\n",
        "                    i_max = coefs[int(item.replace('Товар_',''))-1]\n",
        "                    recomendation = item \n",
        "            else:                \n",
        "                print(f'Название: {item}, коэффициент {coefs[int(item)]}')\n",
        "                if i_max <= coefs[int(item)]: \n",
        "                    i_max = coefs[int(item)]\n",
        "                    recomendation = item \n",
        "    print (f'Рекомендация - {str(recomendation)} с коэффициентом  {i_max}')"
      ]
    },
    {
      "cell_type": "markdown",
      "metadata": {
        "id": "tZrXCd9TgezN"
      },
      "source": [
        "Функция для рекомендации товара на основе наиболее близкого элемента"
      ]
    },
    {
      "cell_type": "code",
      "execution_count": null,
      "metadata": {
        "ExecuteTime": {
          "end_time": "2022-10-20T12:01:07.439051Z",
          "start_time": "2022-10-20T12:01:07.394012Z"
        },
        "id": "bWvUV2V-gezO"
      },
      "outputs": [],
      "source": [
        "def rec_target(dataframe, user):\n",
        "    avg = dataframe.mean() #берём средние по столбцам\n",
        "    i=0 #счётчик для строк\n",
        "    df_user_0_c = dataframe-avg #датафрем с удалением средних\n",
        "    df_user_0 = dataframe #исходный датафрейм \n",
        "    cos_max = -100\n",
        "    cos_user = user\n",
        "    while i<(len(dataframe)): #проходим по строкам в поисках наиболее похожего пользователя\n",
        "        if i!= user:\n",
        "            sm = sim(dataframe.iloc[user].values, dataframe.iloc[i].values)            \n",
        "            if cos_max < sm:\n",
        "                cos_max = sm\n",
        "                cos_user = i\n",
        "        i+=1\n",
        "    if 'Товар_' in str(dataframe.columns[1]):\n",
        "        print(f'Наиболее подходящий пользователь - {cos_user}')\n",
        "    else:\n",
        "        print(f'Наиболее подходящий элемент - {cos_user}')\n",
        "    s1 = df_user_0_c.iloc[cos_user]*(sim(dataframe.iloc[user].values, dataframe.iloc[cos_user].values)) #суммы числителей\n",
        "    s2 = df_user_0.iloc[cos_user]*(sim(dataframe.iloc[user].values, dataframe.iloc[cos_user].values)) #суммы знаменателей\n",
        "    coefs = s1/s2 #общие коэффициенты по товарам\n",
        "    coefs = coefs.replace(-inf,-100)\n",
        "    i=0 #очередной счётчик для цикла\n",
        "    i_max = -100 #т.к. значения могут быть и отрицательными ставим -100\n",
        "    recomendation = ''\n",
        "    print('Новые для пользователя товары:')\n",
        "    for item in dataframe: #проходим по исходному датафрейму в поисках нулей\n",
        "        if dataframe[item].iloc[user]==0: #находим максимальный коэффициент для нулевых значений\n",
        "            if 'Товар_' in str(dataframe.columns[1]):\n",
        "                print(f'Название: {item}, коэффициент {coefs[int(item.replace(\"Товар_\",\"\"))-1]}')\n",
        "                if i_max <= coefs[int(item.replace('Товар_',''))-1]: #-1 т.к. нумерация с нуля\n",
        "                    i_max = coefs[int(item.replace('Товар_',''))-1]\n",
        "                    recomendation = item \n",
        "            else:                \n",
        "                print(f'Название: {item}, коэффициент {coefs[int(item)]}')\n",
        "                if i_max <= coefs[int(item)]:\n",
        "                    i_max = coefs[int(item)]\n",
        "                    recomendation = item \n",
        "    print (f'Рекомендация - {str(recomendation)} с коэффициентом  {i_max}')"
      ]
    },
    {
      "cell_type": "code",
      "execution_count": null,
      "metadata": {
        "ExecuteTime": {
          "end_time": "2022-10-20T12:01:07.535139Z",
          "start_time": "2022-10-20T12:01:07.440053Z"
        },
        "colab": {
          "base_uri": "https://localhost:8080/"
        },
        "id": "uWnvsCTbgezP",
        "outputId": "bb31c645-77e7-4745-f819-5a7bb1fa7031"
      },
      "outputs": [
        {
          "output_type": "stream",
          "name": "stdout",
          "text": [
            "Новые для пользователя товары:\n",
            "Название: Товар_2, коэффициент -0.6189013525316431\n",
            "Название: Товар_3, коэффициент 0.1751594201304232\n",
            "Название: Товар_4, коэффициент -0.17930610490110765\n",
            "Название: Товар_8, коэффициент 0.19673168743531627\n",
            "Название: Товар_13, коэффициент 0.05714657493942517\n",
            "Название: Товар_16, коэффициент -0.08088222801633693\n",
            "Название: Товар_17, коэффициент 0.016116081281377793\n",
            "Название: Товар_18, коэффициент -0.06655875251785018\n",
            "Рекомендация - Товар_8 с коэффициентом  0.19673168743531627\n"
          ]
        }
      ],
      "source": [
        "rec(df, 2)"
      ]
    },
    {
      "cell_type": "code",
      "execution_count": null,
      "metadata": {
        "ExecuteTime": {
          "end_time": "2022-10-20T12:01:07.583183Z",
          "start_time": "2022-10-20T12:01:07.536140Z"
        },
        "colab": {
          "base_uri": "https://localhost:8080/"
        },
        "id": "LMhDJnkHgezP",
        "outputId": "5fa6fbe9-6ecf-4711-f008-ea74e8cd3bc6"
      },
      "outputs": [
        {
          "output_type": "stream",
          "name": "stdout",
          "text": [
            "Наиболее подходящий пользователь - 0\n",
            "Новые для пользователя товары:\n",
            "Название: Товар_2, коэффициент -3176.9567928691276\n",
            "Название: Товар_3, коэффициент -2300.869842235941\n",
            "Название: Товар_4, коэффициент -490.02453780911287\n",
            "Название: Товар_8, коэффициент -837.7279930490716\n",
            "Название: Товар_13, коэффициент -11951.609419033923\n",
            "Название: Товар_16, коэффициент -814.9681442611644\n",
            "Название: Товар_17, коэффициент -1692.2228863199978\n",
            "Название: Товар_18, коэффициент -1293.682565670838\n",
            "Рекомендация -  с коэффициентом  -100\n"
          ]
        }
      ],
      "source": [
        "rec_target(df, 2)"
      ]
    },
    {
      "cell_type": "markdown",
      "metadata": {
        "id": "3GaTcyAvgezQ"
      },
      "source": [
        "Т.к. функции рассчитаны на оба варианта использования, транспонируем матрицу и находим рекомендации по товарам"
      ]
    },
    {
      "cell_type": "code",
      "execution_count": null,
      "metadata": {
        "ExecuteTime": {
          "end_time": "2022-10-20T12:01:07.631226Z",
          "start_time": "2022-10-20T12:01:07.584184Z"
        },
        "id": "JqnekOIOgezQ"
      },
      "outputs": [],
      "source": [
        "df_t = df.T"
      ]
    },
    {
      "cell_type": "code",
      "execution_count": null,
      "metadata": {
        "ExecuteTime": {
          "end_time": "2022-10-20T12:01:07.727313Z",
          "start_time": "2022-10-20T12:01:07.632227Z"
        },
        "colab": {
          "base_uri": "https://localhost:8080/"
        },
        "id": "Gzu_rkoCgezR",
        "outputId": "f46080ac-c8b8-4f2c-9604-96c6aa9c6ff3"
      },
      "outputs": [
        {
          "output_type": "stream",
          "name": "stdout",
          "text": [
            "Новые для пользователя товары:\n",
            "Название: 2, коэффициент 0.02308135935255081\n",
            "Название: 3, коэффициент -0.35294067813107755\n",
            "Название: 7, коэффициент -0.07609329041322235\n",
            "Рекомендация - 2 с коэффициентом  0.02308135935255081\n"
          ]
        }
      ],
      "source": [
        "rec(df_t, 2)"
      ]
    },
    {
      "cell_type": "code",
      "execution_count": null,
      "metadata": {
        "id": "gvg4hBTOgezS"
      },
      "outputs": [],
      "source": []
    },
    {
      "cell_type": "code",
      "execution_count": null,
      "metadata": {
        "id": "5qLr7CLZgezS"
      },
      "outputs": [],
      "source": []
    }
  ],
  "metadata": {
    "colab": {
      "provenance": []
    },
    "kernelspec": {
      "display_name": "Python 3",
      "language": "python",
      "name": "python3"
    },
    "language_info": {
      "codemirror_mode": {
        "name": "ipython",
        "version": 3
      },
      "file_extension": ".py",
      "mimetype": "text/x-python",
      "name": "python",
      "nbconvert_exporter": "python",
      "pygments_lexer": "ipython3",
      "version": "3.8.3"
    }
  },
  "nbformat": 4,
  "nbformat_minor": 0
}